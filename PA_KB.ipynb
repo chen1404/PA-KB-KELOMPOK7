{
 "cells": [
  {
   "cell_type": "markdown",
   "metadata": {},
   "source": [
    "### Kelompok 7 Kecerdasan Buata - IF A2 2020\n",
    "#### <li>2009106013 Yanuar Satria Gotama</li>\n",
    "#### <li>2009106016 Satria Bagus Eka Chandra</li>\n",
    "#### <li>2009106022 Gempar Panggih Dwi Putra</li>\n",
    "#### Project - Klasifikasi Buah-buahan\n",
    "#### Link Dataset - https://www.kaggle.com/datasets/sshikamaru/fruit-recognition"
   ]
  },
  {
   "cell_type": "code",
   "execution_count": 1,
   "metadata": {},
   "outputs": [],
   "source": [
    "import os\n",
    "import numpy as np\n",
    "import pandas as pd\n",
    "import tensorflow as tf\n",
    "from tensorflow import keras\n",
    "from tensorflow.keras.models import Sequential\n",
    "from tensorflow.keras.layers import Activation, Dropout, Flatten, Dense, Conv2D, MaxPooling2D\n",
    "from tensorflow.keras import layers\n",
    "from tensorflow.keras.preprocessing.image import ImageDataGenerator, img_to_array, load_img\n",
    "from tensorflow.keras.models import load_model\n",
    "import seaborn as sns\n",
    "import warnings\n",
    "warnings.filterwarnings(\"ignore\")\n",
    "import pathlib\n",
    "import PIL\n",
    "import matplotlib.pyplot as plt"
   ]
  },
  {
   "cell_type": "markdown",
   "metadata": {},
   "source": [
    "### Preprocessing dan Data Collecting"
   ]
  },
  {
   "cell_type": "markdown",
   "metadata": {},
   "source": [
    "Disini kami menggunakan dataset buah-buahan dari Kaagle yang merupakan tipe Dataset citra atau gambar. Terdapat 32 Class atau jenis buah-buahan dalam dataset ini. Dengan dataset ini kami akan membuat sebuah projek deep learning yang memiliki fungsi mengklasifikasi buah berdasarkan gambar."
   ]
  },
  {
   "cell_type": "code",
   "execution_count": 2,
   "metadata": {},
   "outputs": [],
   "source": [
    "trainDirectory = 'fruit-recognition/train/train'\n",
    "imageHeight = 100\n",
    "imageWidth = 100\n",
    "inputShape = (imageHeight, imageWidth, 3)"
   ]
  },
  {
   "cell_type": "markdown",
   "metadata": {},
   "source": [
    "Dalam tahap preprocessing dan data collecting kami menggunakan sebuah fungsi pada tensorflow untuk mempermudah yaitu ImageDataGenerator."
   ]
  },
  {
   "cell_type": "code",
   "execution_count": 3,
   "metadata": {},
   "outputs": [
    {
     "name": "stdout",
     "output_type": "stream",
     "text": [
      "Found 13493 images belonging to 33 classes.\n",
      "Found 3361 images belonging to 33 classes.\n"
     ]
    }
   ],
   "source": [
    "imageDataGenerator = ImageDataGenerator(rescale=1./255,\n",
    "                                vertical_flip=True,\n",
    "                                horizontal_flip=True,\n",
    "                                rotation_range=40,\n",
    "                                width_shift_range=0.2,\n",
    "                                height_shift_range=0.2,\n",
    "                                zoom_range=0.1,\n",
    "                                validation_split=0.2)\n",
    "\n",
    "testDataGenerator = ImageDataGenerator(rescale=1./255)\n",
    "\n",
    "trainGenerator = imageDataGenerator.flow_from_directory(trainDirectory,\n",
    "                                                 shuffle=True,\n",
    "                                                 batch_size=32,\n",
    "                                                 subset='training',\n",
    "                                                 target_size=(100, 100))\n",
    "\n",
    "validGenerator = imageDataGenerator.flow_from_directory(trainDirectory,\n",
    "                                                 shuffle=True,\n",
    "                                                 batch_size=16,\n",
    "                                                 subset='validation',\n",
    "                                                 target_size=(100, 100))"
   ]
  },
  {
   "cell_type": "markdown",
   "metadata": {},
   "source": [
    "### Data Visualization"
   ]
  },
  {
   "cell_type": "markdown",
   "metadata": {},
   "source": [
    "#### Preview Gambar"
   ]
  },
  {
   "cell_type": "code",
   "execution_count": 6,
   "metadata": {},
   "outputs": [
    {
     "name": "stdout",
     "output_type": "stream",
     "text": [
      "Found 16854 images belonging to 33 classes.\n"
     ]
    }
   ],
   "source": [
    "BATCH_SIZE = 32\n",
    "IMAGE_SIZE = (120,120)\n",
    "BASE_PATH = 'fruit-recognition/'\n",
    "\n",
    "train_path = 'fruit-recognition/train/train/'\n",
    "\n",
    "train_datagen = ImageDataGenerator(\n",
    "        rescale=1./255,\n",
    "        shear_range=0.2,\n",
    "        zoom_range=0.2,\n",
    "        horizontal_flip=True)\n",
    "\n",
    "train_generator = train_datagen.flow_from_directory(\n",
    "        train_path,\n",
    "        target_size=(150, 150),\n",
    "        batch_size=32,\n",
    "        class_mode='categorical')"
   ]
  },
  {
   "cell_type": "code",
   "execution_count": null,
   "metadata": {},
   "outputs": [],
   "source": []
  }
 ],
 "metadata": {
  "kernelspec": {
   "display_name": "Python 3.10.7 64-bit",
   "language": "python",
   "name": "python3"
  },
  "language_info": {
   "codemirror_mode": {
    "name": "ipython",
    "version": 3
   },
   "file_extension": ".py",
   "mimetype": "text/x-python",
   "name": "python",
   "nbconvert_exporter": "python",
   "pygments_lexer": "ipython3",
   "version": "3.10.7"
  },
  "orig_nbformat": 4,
  "vscode": {
   "interpreter": {
    "hash": "27f6fea6f47ae512550f0b8facdbd035a93e1dd89633f7bf2dd00a2502c71d0d"
   }
  }
 },
 "nbformat": 4,
 "nbformat_minor": 2
}
